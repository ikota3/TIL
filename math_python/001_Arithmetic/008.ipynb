{
 "metadata": {
  "language_info": {
   "codemirror_mode": {
    "name": "ipython",
    "version": 3
   },
   "file_extension": ".py",
   "mimetype": "text/x-python",
   "name": "python",
   "nbconvert_exporter": "python",
   "pygments_lexer": "ipython3",
   "version": "3.8.5-final"
  },
  "orig_nbformat": 2,
  "kernelspec": {
   "name": "python3",
   "display_name": "Python 3",
   "language": "python"
  }
 },
 "nbformat": 4,
 "nbformat_minor": 2,
 "cells": [
  {
   "cell_type": "code",
   "execution_count": 5,
   "metadata": {},
   "outputs": [
    {
     "output_type": "stream",
     "name": "stdout",
     "text": [
      "-5 is an odd  number\n-4 is an even number\n-3 is an odd  number\n-2 is an even number\n-1 is an odd  number\n 0 is an even number\n 1 is an odd  number\n 2 is an even number\n 3 is an odd  number\n 4 is an even number\n 5 is an odd  number\n"
     ]
    }
   ],
   "source": [
    "numbers = [i for i in range(-5, 6)]\n",
    "for number in numbers:\n",
    "    if number % 2 == 0:\n",
    "        print(f'{number:>2} is an even number')\n",
    "    else:\n",
    "        print(f'{number:>2} is an odd  number')"
   ]
  }
 ]
}