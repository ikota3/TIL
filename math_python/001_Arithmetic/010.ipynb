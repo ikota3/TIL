{
 "metadata": {
  "language_info": {
   "codemirror_mode": {
    "name": "ipython",
    "version": 3
   },
   "file_extension": ".py",
   "mimetype": "text/x-python",
   "name": "python",
   "nbconvert_exporter": "python",
   "pygments_lexer": "ipython3",
   "version": "3.8.5-final"
  },
  "orig_nbformat": 2,
  "kernelspec": {
   "name": "python3",
   "display_name": "Python 3",
   "language": "python"
  }
 },
 "nbformat": 4,
 "nbformat_minor": 2,
 "cells": [
  {
   "cell_type": "code",
   "execution_count": 6,
   "metadata": {
    "tags": []
   },
   "outputs": [
    {
     "output_type": "stream",
     "name": "stdout",
     "text": [
      "Got it! The right number was 50 and your final guess was None\n"
     ]
    }
   ],
   "source": [
    "import random\n",
    "\n",
    "def guess_the_number():\n",
    "    MIN_NUM = 1\n",
    "    MAX_NUM = 100\n",
    "    random_number = random.randint(MIN_NUM, MAX_NUM)\n",
    "\n",
    "    try:\n",
    "        user_guess = None\n",
    "        user_guess = int(input(f'Guess a number between {MIN_NUM} and {MAX_NUM}: '))\n",
    "        while True:\n",
    "            if user_guess == random_number:\n",
    "                break\n",
    "            if user_guess < random_number:\n",
    "                user_guess = int(input('Guess higher!: '))\n",
    "            else:\n",
    "                user_guess = int(input('Guess lower!: '))\n",
    "    except Exception:\n",
    "        pass\n",
    "\n",
    "    print(f'Got it! The right number was {random_number} and your final guess was {user_guess}')\n",
    "\n",
    "\n",
    "guess_the_number()"
   ]
  }
 ]
}