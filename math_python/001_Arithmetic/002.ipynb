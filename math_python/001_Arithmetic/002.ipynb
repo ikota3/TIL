{
 "metadata": {
  "language_info": {
   "codemirror_mode": {
    "name": "ipython",
    "version": 3
   },
   "file_extension": ".py",
   "mimetype": "text/x-python",
   "name": "python",
   "nbconvert_exporter": "python",
   "pygments_lexer": "ipython3",
   "version": "3.8.5-final"
  },
  "orig_nbformat": 2,
  "kernelspec": {
   "name": "python3",
   "display_name": "Python 3",
   "language": "python"
  }
 },
 "nbformat": 4,
 "nbformat_minor": 2,
 "cells": [
  {
   "cell_type": "code",
   "execution_count": 1,
   "metadata": {},
   "outputs": [
    {
     "output_type": "stream",
     "name": "stdout",
     "text": [
      "42\n0.0\n"
     ]
    }
   ],
   "source": [
    "x, y, z = 7, -2, 5\n",
    "\n",
    "# 3x(4 + y) = 42\n",
    "print(3 * x * (4 + y))\n",
    "\n",
    "# -y - ((x + 3) / z) = 0\n",
    "print(-y - ((x + 3) / z))"
   ]
  }
 ]
}