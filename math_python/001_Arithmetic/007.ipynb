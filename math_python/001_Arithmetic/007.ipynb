{
 "metadata": {
  "language_info": {
   "codemirror_mode": {
    "name": "ipython",
    "version": 3
   },
   "file_extension": ".py",
   "mimetype": "text/x-python",
   "name": "python",
   "nbconvert_exporter": "python",
   "pygments_lexer": "ipython3",
   "version": "3.8.5-final"
  },
  "orig_nbformat": 2,
  "kernelspec": {
   "name": "python3",
   "display_name": "Python 3",
   "language": "python"
  }
 },
 "nbformat": 4,
 "nbformat_minor": 2,
 "cells": [
  {
   "cell_type": "code",
   "execution_count": 1,
   "metadata": {},
   "outputs": [
    {
     "output_type": "stream",
     "name": "stdout",
     "text": [
      "-4 was not tested.\nAbsolute value of 6 is 6.\n-1 was not tested.\nAbsolute value of 43 is 43.\nAbsolute value of -18 is 18.\n2 was not tested.\n0 was not tested.\n"
     ]
    }
   ],
   "source": [
    "from IPython.display import display, Math\n",
    "\n",
    "numbers = [-4, 6, -1, 43, -18, 2, 0]\n",
    "for number in numbers:\n",
    "    if number < -5 or number > 2:\n",
    "        print(f'Absolute value of {number} is {abs(number)}.')\n",
    "    else:\n",
    "        print(f'{number} was not tested.')"
   ]
  }
 ]
}