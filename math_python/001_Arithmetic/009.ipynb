{
 "metadata": {
  "language_info": {
   "codemirror_mode": {
    "name": "ipython",
    "version": 3
   },
   "file_extension": ".py",
   "mimetype": "text/x-python",
   "name": "python",
   "nbconvert_exporter": "python",
   "pygments_lexer": "ipython3",
   "version": "3.8.5-final"
  },
  "orig_nbformat": 2,
  "kernelspec": {
   "name": "python3",
   "display_name": "Python 3",
   "language": "python"
  }
 },
 "nbformat": 4,
 "nbformat_minor": 2,
 "cells": [
  {
   "cell_type": "code",
   "execution_count": 5,
   "metadata": {},
   "outputs": [
    {
     "output_type": "display_data",
     "data": {
      "text/plain": "<IPython.core.display.Math object>",
      "text/latex": "$\\displaystyle \\text{Press \"1\" to compute }10^{2}\\text{ or \"2\" to compute }\\frac{10}{2}$"
     },
     "metadata": {}
    },
    {
     "output_type": "display_data",
     "data": {
      "text/plain": "<IPython.core.display.Math object>",
      "text/latex": "$\\displaystyle 10^{2} = 100$"
     },
     "metadata": {}
    }
   ],
   "source": [
    "from IPython.display import display, Math\n",
    "\n",
    "\n",
    "def power(x, y):\n",
    "    return x ** y\n",
    "\n",
    "def frac(x, y):\n",
    "    return x / y\n",
    "\n",
    "\n",
    "x = int(input('input X: '))\n",
    "y = int(input('input Y: '))\n",
    "\n",
    "display(Math('\\\\text{Press \"1\" to compute }%g^{%g}\\\\text{ or \"2\" to compute }\\\\frac{%g}{%g}' % (x, y, x, y)))\n",
    "\n",
    "user_answer = int(input())\n",
    "if user_answer == 1:\n",
    "    display(Math('%g^{%g} = %g' % (x, y, power(x, y))))\n",
    "elif user_answer == 2:\n",
    "    display(Math('\\\\frac{%g}{%g} = %g' % (x, y, frac(x, y))))\n",
    "else:\n",
    "    display('Invalid selection!')"
   ]
  },
  {
   "cell_type": "code",
   "execution_count": null,
   "metadata": {},
   "outputs": [],
   "source": []
  }
 ]
}