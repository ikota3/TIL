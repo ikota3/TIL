{
 "metadata": {
  "language_info": {
   "codemirror_mode": {
    "name": "ipython",
    "version": 3
   },
   "file_extension": ".py",
   "mimetype": "text/x-python",
   "name": "python",
   "nbconvert_exporter": "python",
   "pygments_lexer": "ipython3",
   "version": "3.8.5-final"
  },
  "orig_nbformat": 2,
  "kernelspec": {
   "name": "python3",
   "display_name": "Python 3",
   "language": "python"
  }
 },
 "nbformat": 4,
 "nbformat_minor": 2,
 "cells": [
  {
   "cell_type": "code",
   "execution_count": 1,
   "metadata": {},
   "outputs": [],
   "source": [
    "from IPython.display import display, Math"
   ]
  },
  {
   "cell_type": "code",
   "execution_count": 2,
   "metadata": {},
   "outputs": [
    {
     "output_type": "display_data",
     "data": {
      "text/plain": "<IPython.core.display.Math object>",
      "text/latex": "$\\displaystyle \\sigma = \\mu \\times \\sqrt{5}$"
     },
     "metadata": {}
    }
   ],
   "source": [
    "display(Math('\\\\sigma = \\\\mu \\\\times \\\\sqrt{5}'))"
   ]
  },
  {
   "cell_type": "code",
   "execution_count": 10,
   "metadata": {},
   "outputs": [
    {
     "output_type": "display_data",
     "data": {
      "text/plain": "<IPython.core.display.Math object>",
      "text/latex": "$\\displaystyle x_{10} + y^{n+2k-1}$"
     },
     "metadata": {}
    }
   ],
   "source": [
    "display(Math('x_{10} + y^{n+2k-1}'))"
   ]
  },
  {
   "source": [
    "display(Math('\\\\text{The answer is }\\\\frac{1+k}{n-1}'))"
   ],
   "cell_type": "code",
   "metadata": {},
   "execution_count": null,
   "outputs": []
  },
  {
   "source": [
    "# Markdown\n",
    "\n",
    "$\\frac{1+x}{2v-s^{t+4r}}$"
   ],
   "cell_type": "markdown",
   "metadata": {}
  },
  {
   "source": [
    "# LaTeX exercises\n",
    "\n",
    "$\\text{1) }4x + 5y - 8z = 17$\n",
    "\n",
    "$\\text{2) }sin(2\\pi f t + \\theta)$\n",
    "\n",
    "$\\text{3) }e = mc^2$\n",
    "\n",
    "$\\text{4) }\\frac{4 + 5x^2}{(1+x)(1-x)}$"
   ],
   "cell_type": "markdown",
   "metadata": {}
  }
 ]
}